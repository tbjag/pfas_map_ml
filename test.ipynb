{
 "cells": [
  {
   "cell_type": "code",
   "execution_count": 1,
   "metadata": {},
   "outputs": [],
   "source": [
    "import geopandas as gpd\n",
    "import pandas as pd\n",
    "import numpy as np\n",
    "import rasterio\n",
    "from rasterio.features import geometry_mask, rasterize\n",
    "from rasterio.transform import from_origin\n",
    "from rasterio.mask import mask"
   ]
  },
  {
   "cell_type": "code",
   "execution_count": null,
   "metadata": {},
   "outputs": [],
   "source": [
    "\n",
    "\n",
    "# Read the CSV and California shapefile\n",
    "csv_filepath = 'og_csv/averaged_data_2021_Q3.csv'\n",
    "combined_raster_path = 'test_out/out.tiff'\n",
    "target_col = 'target'\n",
    "\n",
    "df = pd.read_csv(csv_filepath)\n",
    "\n",
    "gdf = gpd.GeoDataFrame(df, geometry=gpd.points_from_xy(df['lon'], df['lat']), crs=\"EPSG:32633\")\n",
    "gdf['geometry'] = gdf['geometry'].buffer(0.05)  # Buffer the points 5km\n",
    "gdf[target_col] = gdf['Evapotranspiration (mm)']\n",
    "gdf[target_col] += 1\n",
    "\n",
    "california_border = gpd.read_file(\"California.shp\")\n",
    "california_border.crs = \"EPSG:4269\"\n",
    "\n",
    "# Determine raster extent and pixel size\n",
    "xmin, ymin, xmax, ymax = california_border.total_bounds\n",
    "pixel_size = 0.01  # Adjust as needed\n",
    "width = int((xmax - xmin) / pixel_size)\n",
    "height = int((ymax - ymin) / pixel_size)\n",
    "transform = from_origin(xmin, ymax, pixel_size, pixel_size)\n",
    "\n",
    "# Create raster for buffer zones with AQI values\n",
    "shapes_with_aqi = [(geom, value) for geom, value in zip(gdf['geometry'], gdf[target_col])]\n",
    "\n",
    "\n",
    "buffered_raster = rasterize(shapes_with_aqi, out_shape=(height, width), transform=transform, fill=0, dtype=rasterio.float32)\n",
    "\n",
    "# Create raster for California border\n",
    "california_raster = np.zeros((height, width), dtype=np.uint8)\n",
    "california_raster_mask = geometry_mask(california_border['geometry'], transform=transform, invert=True, out_shape=(height, width))\n",
    "california_raster[california_raster_mask] = 1  # Set pixels inside California border to 1\n",
    "\n",
    "# Combine the two rasters by taking the max value (AQI values will override the border)\n",
    "combined_raster = np.maximum(buffered_raster, california_raster)\n",
    "\n",
    "\n",
    "with rasterio.open(\n",
    "    combined_raster_path, 'w',\n",
    "    driver='GTiff',\n",
    "    height=combined_raster.shape[0],\n",
    "    width=combined_raster.shape[1],\n",
    "    count=1,\n",
    "    dtype=rasterio.float32,\n",
    "    crs=\"EPSG:4269\",\n",
    "    transform=transform,\n",
    ") as dst:\n",
    "    dst.write(combined_raster, 1)\n",
    "\n",
    "# Mask out values outside California\n",
    "ca_shapes = [feature[\"geometry\"] for feature in california_border.__geo_interface__[\"features\"]]\n",
    "with rasterio.open(combined_raster_path, 'r+') as src:\n",
    "    # Read the entire raster\n",
    "    data = src.read(1)\n",
    "\n",
    "    # Generate mask\n",
    "    mask_array, _ = mask(src, ca_shapes, crop=False)\n",
    "\n",
    "    # Set values outside the mask to NoData\n",
    "    nodata_value = src.nodata if src.nodata is not None else -1\n",
    "    data[mask_array[0] == False] = nodata_value\n",
    "\n",
    "    # Update metadata to include NoData value\n",
    "    out_meta = src.meta.copy()\n",
    "    out_meta.update({\"nodata\": nodata_value})\n",
    "\n",
    "    src.write(data, 1)"
   ]
  },
  {
   "cell_type": "code",
   "execution_count": 17,
   "metadata": {},
   "outputs": [
    {
     "name": "stdout",
     "output_type": "stream",
     "text": [
      "  Resolution: (0.0010006858070884998, 0.001000000149001847)\n",
      "  Bounding Box: (-124.34911344788206, -114.13211135750848, 32.534282317412945, 42.004283728460436)\n",
      "  Pixel Dimensions: 10210 x 9470\n"
     ]
    }
   ],
   "source": [
    "with rasterio.open('HUC8_CA_PFAS_GTruth_Summa.tif') as src:\n",
    "    # Get resolution\n",
    "    resolution = src.res\n",
    "    # Get bounding box (min/max longitude and latitude)\n",
    "    bounds = src.bounds\n",
    "    min_lon, max_lon = bounds.left, bounds.right\n",
    "    min_lat, max_lat = bounds.bottom, bounds.top\n",
    "    # Get pixel dimensions\n",
    "    width, height = src.width, src.height\n",
    "    # Print information\n",
    "    #print(f\"File: {combined_raster_path}\")\n",
    "    print(f\"  Resolution: {resolution}\")\n",
    "    print(f\"  Bounding Box: ({min_lon}, {max_lon}, {min_lat}, {max_lat})\")\n",
    "    print(f\"  Pixel Dimensions: {width} x {height}\")"
   ]
  },
  {
   "cell_type": "code",
   "execution_count": 18,
   "metadata": {},
   "outputs": [],
   "source": [
    "import rasterio\n",
    "from rasterio.enums import Resampling\n",
    "\n",
    "large_data = 'HUC8_CA_PFAS_GTruth_Summa2.tiff'\n",
    "\n",
    "# Open the source TIFF file\n",
    "with rasterio.open('HUC8_CA_PFAS_GTruth_Summa.tif') as src:\n",
    "    # Calculate new shape for doubling\n",
    "    new_width = 10210\n",
    "    new_height = 9460\n",
    "\n",
    "    # Calculate new transform (to adjust the resolution)\n",
    "    new_transform = src.transform * src.transform.scale(\n",
    "        (src.width / new_width),  # scaling in the X direction\n",
    "        (src.height / new_height)  # scaling in the Y direction\n",
    "    )\n",
    "    \n",
    "    # Read and resample the data to the new shape\n",
    "    data = src.read(\n",
    "        out_shape=(src.count, new_height, new_width),\n",
    "        resampling=Resampling.bilinear  # you can use other resampling methods if needed\n",
    "    )\n",
    "    \n",
    "    # Update metadata\n",
    "    profile = src.profile\n",
    "    profile.update({\n",
    "        'height': new_height,\n",
    "        'width': new_width,\n",
    "        'transform': new_transform,\n",
    "        'driver': 'GTiff'\n",
    "    })\n",
    "\n",
    "    # Write the output to a new TIFF file\n",
    "    with rasterio.open(large_data, 'w', **profile) as dst:\n",
    "        dst.write(data)\n"
   ]
  },
  {
   "cell_type": "code",
   "execution_count": null,
   "metadata": {},
   "outputs": [],
   "source": [
    "import rasterio\n",
    "from rasterio.enums import Resampling\n",
    "\n",
    "large_data = 'HUC8_CA_PFAS_GTruth_Summa.tif'\n",
    "\n",
    "# Open the source TIFF file\n",
    "with rasterio.open('HUC8_CA_PFAS_GTruth_Summa2.tif') as src:\n",
    "    # Calculate new shape for doubling\n",
    "    new_width = src.width * 10\n",
    "    new_height = src.height * 10\n",
    "\n",
    "    # Calculate new transform (to adjust the resolution)\n",
    "    new_transform = src.transform * src.transform.scale(\n",
    "        (src.width / new_width),  # scaling in the X direction\n",
    "        (src.height / new_height)  # scaling in the Y direction\n",
    "    )\n",
    "    \n",
    "    # Read and resample the data to the new shape\n",
    "    data = src.read(\n",
    "        out_shape=(src.count, new_height, new_width),\n",
    "        resampling=Resampling.bilinear  # you can use other resampling methods if needed\n",
    "    )\n",
    "    \n",
    "    # Update metadata\n",
    "    profile = src.profile\n",
    "    profile.update({\n",
    "        'height': new_height,\n",
    "        'width': new_width,\n",
    "        'transform': new_transform,\n",
    "        'driver': 'GTiff'\n",
    "    })\n",
    "\n",
    "    # Write the output to a new TIFF file\n",
    "    with rasterio.open(large_data, 'w', **profile) as dst:\n",
    "        dst.write(data)\n"
   ]
  },
  {
   "cell_type": "code",
   "execution_count": 11,
   "metadata": {},
   "outputs": [
    {
     "name": "stdout",
     "output_type": "stream",
     "text": [
      "  Resolution: (0.001, 0.001)\n",
      "  Bounding Box: (-124.34811344799999, -114.13811344799998, 32.54367419300005, 42.00367419300005)\n",
      "  Pixel Dimensions: 10210 x 9460\n"
     ]
    }
   ],
   "source": [
    "with rasterio.open('large_tiff_data2/2016_averaged_Lead_data_Q1.tiff') as src:\n",
    "    # Get resolution\n",
    "    resolution = src.res\n",
    "    # Get bounding box (min/max longitude and latitude)\n",
    "    bounds = src.bounds\n",
    "    min_lon, max_lon = bounds.left, bounds.right\n",
    "    min_lat, max_lat = bounds.bottom, bounds.top\n",
    "    # Get pixel dimensions\n",
    "    width, height = src.width, src.height\n",
    "    # Print information\n",
    "    # print(f\"File: {combined_raster_path}\")\n",
    "    print(f\"  Resolution: {resolution}\")\n",
    "    print(f\"  Bounding Box: ({min_lon}, {max_lon}, {min_lat}, {max_lat})\")\n",
    "    print(f\"  Pixel Dimensions: {width} x {height}\")"
   ]
  },
  {
   "cell_type": "code",
   "execution_count": 16,
   "metadata": {},
   "outputs": [
    {
     "name": "stdout",
     "output_type": "stream",
     "text": [
      "  Resolution: (0.0010006858070884998, 0.0010010572316117854)\n",
      "  Bounding Box: (-124.34911344788206, -114.13211135750848, 32.534282317412945, 42.004283728460436)\n",
      "  Pixel Dimensions: 10210 x 9460\n"
     ]
    }
   ],
   "source": [
    "with rasterio.open('HUC8_CA_PFAS_GTruth_Summa3.tiff') as src:\n",
    "    # Get resolution\n",
    "    resolution = src.res\n",
    "    # Get bounding box (min/max longitude and latitude)\n",
    "    bounds = src.bounds\n",
    "    min_lon, max_lon = bounds.left, bounds.right\n",
    "    min_lat, max_lat = bounds.bottom, bounds.top\n",
    "    # Get pixel dimensions\n",
    "    width, height = src.width, src.height\n",
    "    # Print information\n",
    "    # print(f\"File: {combined_raster_path}\")\n",
    "    print(f\"  Resolution: {resolution}\")\n",
    "    print(f\"  Bounding Box: ({min_lon}, {max_lon}, {min_lat}, {max_lat})\")\n",
    "    print(f\"  Pixel Dimensions: {width} x {height}\")"
   ]
  }
 ],
 "metadata": {
  "kernelspec": {
   "display_name": "pfas",
   "language": "python",
   "name": "python3"
  },
  "language_info": {
   "codemirror_mode": {
    "name": "ipython",
    "version": 3
   },
   "file_extension": ".py",
   "mimetype": "text/x-python",
   "name": "python",
   "nbconvert_exporter": "python",
   "pygments_lexer": "ipython3",
   "version": "3.10.13"
  }
 },
 "nbformat": 4,
 "nbformat_minor": 2
}

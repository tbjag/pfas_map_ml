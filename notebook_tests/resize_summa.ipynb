{
 "cells": [
  {
   "cell_type": "code",
   "execution_count": 2,
   "metadata": {},
   "outputs": [],
   "source": [
    "import rasterio\n",
    "from rasterio.enums import Resampling\n",
    "from rasterio.warp import calculate_default_transform, reproject"
   ]
  },
  {
   "cell_type": "code",
   "execution_count": 5,
   "metadata": {},
   "outputs": [
    {
     "name": "stdout",
     "output_type": "stream",
     "text": [
      "Resampled raster saved to /home/thpc/workspace/pfas_map_ml/data/summa/HUC8_CA_PFAS_GTruth_Summa3.tiff\n"
     ]
    }
   ],
   "source": [
    "# Input and output file paths\n",
    "input_file = \"/home/thpc/workspace/pfas_map_ml/data/summa/HUC8_CA_PFAS_GTruth_Summa.tif\"\n",
    "output_file = \"/home/thpc/workspace/pfas_map_ml/data/summa/HUC8_CA_PFAS_GTruth_Summa3.tiff\"\n",
    "\n",
    "# Desired resolution in pixels\n",
    "new_width = 10215  # New width in pixels\n",
    "new_height = 9469  # New height in pixels\n",
    "\n",
    "with rasterio.open(input_file) as src:\n",
    "    # Calculate new pixel size\n",
    "    x_res = (src.bounds.right - src.bounds.left) / new_width\n",
    "    y_res = (src.bounds.top - src.bounds.bottom) / new_height\n",
    "\n",
    "    # Create a new transform with the updated pixel size\n",
    "    new_transform = rasterio.transform.from_origin(\n",
    "        src.bounds.left, src.bounds.top, x_res, y_res\n",
    "    )\n",
    "\n",
    "    # Write the raster with new dimensions\n",
    "    with rasterio.open(\n",
    "        output_file, 'w',\n",
    "        driver='GTiff',\n",
    "        height=new_height,\n",
    "        width=new_width,\n",
    "        count=src.count,\n",
    "        dtype=src.dtypes[0],\n",
    "        crs=src.crs,\n",
    "        transform=new_transform,\n",
    "    ) as dst:\n",
    "        # Reproject and write each band\n",
    "        for i in range(1, src.count + 1):\n",
    "            reproject(\n",
    "                source=rasterio.band(src, i),\n",
    "                destination=rasterio.band(dst, i),\n",
    "                src_transform=src.transform,\n",
    "                src_crs=src.crs,\n",
    "                dst_transform=new_transform,\n",
    "                dst_crs=src.crs,\n",
    "                resampling=Resampling.bilinear,\n",
    "            )\n",
    "\n",
    "print(f\"Resampled raster saved to {output_file}\")\n"
   ]
  }
 ],
 "metadata": {
  "kernelspec": {
   "display_name": "pfas_map_ml",
   "language": "python",
   "name": "python3"
  },
  "language_info": {
   "codemirror_mode": {
    "name": "ipython",
    "version": 3
   },
   "file_extension": ".py",
   "mimetype": "text/x-python",
   "name": "python",
   "nbconvert_exporter": "python",
   "pygments_lexer": "ipython3",
   "version": "3.12.7"
  }
 },
 "nbformat": 4,
 "nbformat_minor": 2
}

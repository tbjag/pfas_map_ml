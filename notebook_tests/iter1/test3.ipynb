{
 "cells": [
  {
   "cell_type": "code",
   "execution_count": 1,
   "metadata": {},
   "outputs": [],
   "source": [
    "import os\n",
    "import h5py\n",
    "import numpy as np"
   ]
  },
  {
   "cell_type": "code",
   "execution_count": 7,
   "metadata": {},
   "outputs": [
    {
     "name": "stdout",
     "output_type": "stream",
     "text": [
      "(32, 1, 10, 10)\n",
      "(32, 1, 10, 10)\n",
      "(32, 1, 10, 10)\n",
      "(32, 1, 10, 10)\n",
      "(32, 1, 10, 10)\n",
      "Concatenated result shape: (32, 5, 10, 10)\n"
     ]
    }
   ],
   "source": [
    "# Parameters\n",
    "directory = \"../data/h5_temp\"  # Path to the directory containing HDF5 files\n",
    "batch_size = 32  # Number of samples to read from each file\n",
    "output_shape = (batch_size, 5, 10, 10)  # Desired concatenated shape\n",
    "\n",
    "# List all HDF5 files in the directory\n",
    "h5_files = [os.path.join(directory, f) for f in os.listdir(directory) if f.endswith('.h5')]\n",
    "\n",
    "# Ensure there are at least 5 files\n",
    "if len(h5_files) < 5:\n",
    "    raise ValueError(f\"Expected at least 5 files, but found {len(h5_files)}\")\n",
    "\n",
    "# Initialize a list to hold batches\n",
    "batches = []\n",
    "\n",
    "# Iterate through the first 5 HDF5 files\n",
    "for h5_file in h5_files[:5]:\n",
    "    with h5py.File(h5_file, 'r') as h5:\n",
    "        # Read the first `batch_size` samples from the dataset\n",
    "        data = h5['cells'][:batch_size]  # Shape: (32, 1, 10, 10)\n",
    "        print(data.shape)\n",
    "        batches.append(data)\n",
    "\n",
    "# Stack the batches along the second axis to get the desired shape\n",
    "result = np.stack(batches, axis=1)  # Shape: (32, 5, 10, 10)\n",
    "result = np.squeeze(result, axis=2)  # Shape: (32, 5, 10, 10)\n",
    "\n",
    "print(f\"Concatenated result shape: {result.shape}\")"
   ]
  }
 ],
 "metadata": {
  "kernelspec": {
   "display_name": "pfas_map_ml",
   "language": "python",
   "name": "python3"
  },
  "language_info": {
   "codemirror_mode": {
    "name": "ipython",
    "version": 3
   },
   "file_extension": ".py",
   "mimetype": "text/x-python",
   "name": "python",
   "nbconvert_exporter": "python",
   "pygments_lexer": "ipython3",
   "version": "3.12.7"
  }
 },
 "nbformat": 4,
 "nbformat_minor": 2
}

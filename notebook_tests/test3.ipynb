{
 "cells": [
  {
   "cell_type": "code",
   "execution_count": 5,
   "metadata": {},
   "outputs": [],
   "source": [
    "import os\n",
    "import rasterio\n",
    "from rasterio.warp import reproject, Resampling\n",
    "from rasterio.enums import Resampling\n",
    "from rasterio.transform import from_origin"
   ]
  },
  {
   "cell_type": "code",
   "execution_count": 4,
   "metadata": {},
   "outputs": [
    {
     "name": "stdout",
     "output_type": "stream",
     "text": [
      "File: combined/4km_out_test.tif\n",
      "  Resolution: (0.01, 0.01)\n",
      "  Bounding Box: (-124.40970717799996, -114.13970717799997, 32.539513750000054, 42.00951375000005)\n",
      "  Pixel Dimensions: 1027 x 947\n",
      "\n"
     ]
    }
   ],
   "source": [
    "filepath = \"combined/4km_out_test.tif\"\n",
    "\n",
    "# Define the target bounding box and resolution\n",
    "min_lon, max_lon = -124.409591, -114.131211\n",
    "min_lat, max_lat = 32.534156, 42.009518\n",
    "target_crs = 'EPSG:4269'\n",
    "target_width, target_height = 1000, 1000\n",
    "target_resolution = (0.01, 0.01)\n",
    "\n",
    "def transform_tif(input_path, output_path):\n",
    "    with rasterio.open(input_path) as src:\n",
    "        # Calculate the target transform\n",
    "        transform = from_origin(min_lon, max_lat, target_resolution[0], target_resolution[1])\n",
    "\n",
    "        # Define the metadata for the output file\n",
    "        kwargs = src.meta.copy()\n",
    "        kwargs.update({\n",
    "            'crs': target_crs,\n",
    "            'transform': transform,\n",
    "            'width': target_width,\n",
    "            'height': target_height,\n",
    "            'driver': 'GTiff'\n",
    "        })\n",
    "\n",
    "        # Create the output file with the updated metadata\n",
    "        with rasterio.open(output_path, 'w', **kwargs) as dst:\n",
    "            for i in range(1, src.count + 1):\n",
    "                reproject(\n",
    "                    source=rasterio.band(src, i),\n",
    "                    destination=rasterio.band(dst, i),\n",
    "                    src_transform=src.transform,\n",
    "                    src_crs=src.crs,\n",
    "                    dst_transform=transform,\n",
    "                    dst_crs=target_crs,\n",
    "                    resampling=Resampling.nearest  # or Resampling.nearest if the data is categorical\n",
    "                )\n",
    "\n",
    "with rasterio.open(filepath) as src:\n",
    "    # Get resolution\n",
    "    resolution = src.res\n",
    "    # Get bounding box (min/max longitude and latitude)\n",
    "    bounds = src.bounds\n",
    "    min_lon, max_lon = bounds.left, bounds.right\n",
    "    min_lat, max_lat = bounds.bottom, bounds.top\n",
    "    # Get pixel dimensions\n",
    "    width, height = src.width, src.height\n",
    "    # Print information\n",
    "    print(f\"File: {filepath}\")\n",
    "    print(f\"  Resolution: {resolution}\")\n",
    "    print(f\"  Bounding Box: ({min_lon}, {max_lon}, {min_lat}, {max_lat})\")\n",
    "    print(f\"  Pixel Dimensions: {width} x {height}\")\n",
    "    print()"
   ]
  }
 ],
 "metadata": {
  "kernelspec": {
   "display_name": "pfas",
   "language": "python",
   "name": "python3"
  },
  "language_info": {
   "codemirror_mode": {
    "name": "ipython",
    "version": 3
   },
   "file_extension": ".py",
   "mimetype": "text/x-python",
   "name": "python",
   "nbconvert_exporter": "python",
   "pygments_lexer": "ipython3",
   "version": "3.10.13"
  }
 },
 "nbformat": 4,
 "nbformat_minor": 2
}

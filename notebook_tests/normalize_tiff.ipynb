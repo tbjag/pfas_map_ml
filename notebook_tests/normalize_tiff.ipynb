{
 "cells": [
  {
   "cell_type": "code",
   "execution_count": 1,
   "metadata": {},
   "outputs": [],
   "source": [
    "import rasterio\n",
    "import numpy as np\n",
    "\n",
    "def normalize_raster(input_tif, output_tif):\n",
    "    \"\"\"\n",
    "    Reads a TIFF file, normalizes its values to the range [0, 1], and writes to a new TIFF file.\n",
    "    NaN values are preserved.\n",
    "\n",
    "    Args:\n",
    "        input_tif (str): Path to the input TIFF file.\n",
    "        output_tif (str): Path to save the normalized TIFF file.\n",
    "    \"\"\"\n",
    "    with rasterio.open(input_tif) as src:\n",
    "        profile = src.profile\n",
    "        \n",
    "        # Read the data\n",
    "        data = src.read(1).astype(np.float32)\n",
    "        \n",
    "        # Identify NaN values\n",
    "        nan_mask = np.isnan(data)\n",
    "        \n",
    "        # Normalize excluding NaN values\n",
    "        min_val = np.nanmin(data)\n",
    "        max_val = np.nanmax(data)\n",
    "        if max_val > min_val:\n",
    "            normalized_data = (data - min_val) / (max_val - min_val)\n",
    "        else:\n",
    "            normalized_data = np.zeros_like(data)  # Avoid division by zero case\n",
    "        \n",
    "        # Restore NaN values\n",
    "        normalized_data[nan_mask] = np.nan\n",
    "        \n",
    "        # Update profile to maintain original data type and write output\n",
    "        profile.update(dtype=rasterio.float32)\n",
    "        \n",
    "        with rasterio.open(output_tif, 'w', **profile) as dst:\n",
    "            dst.write(normalized_data, 1)\n",
    "\n",
    "\n"
   ]
  },
  {
   "cell_type": "code",
   "execution_count": 2,
   "metadata": {},
   "outputs": [],
   "source": [
    "# Example usage\n",
    "input_tiff = \"/media/data/raw/nico_resize/CA_Elevation.tif\"\n",
    "output_tiff = \"/media/data/raw/nico_resize/CA_Elevation2.tif\"\n",
    "normalize_raster(input_tiff, output_tiff)"
   ]
  }
 ],
 "metadata": {
  "kernelspec": {
   "display_name": "pfas_map_ml",
   "language": "python",
   "name": "python3"
  },
  "language_info": {
   "codemirror_mode": {
    "name": "ipython",
    "version": 3
   },
   "file_extension": ".py",
   "mimetype": "text/x-python",
   "name": "python",
   "nbconvert_exporter": "python",
   "pygments_lexer": "ipython3",
   "version": "3.10.14"
  }
 },
 "nbformat": 4,
 "nbformat_minor": 2
}

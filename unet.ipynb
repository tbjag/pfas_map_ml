{
 "cells": [
  {
   "cell_type": "code",
   "execution_count": 2,
   "metadata": {},
   "outputs": [],
   "source": [
    "import torch\n",
    "import torch.nn as nn\n",
    "import torch.optim as optim\n",
    "import os"
   ]
  },
  {
   "cell_type": "code",
   "execution_count": 4,
   "metadata": {},
   "outputs": [
    {
     "data": {
      "text/plain": [
       "torch.Size([965866, 1, 10, 10])"
      ]
     },
     "execution_count": 4,
     "metadata": {},
     "output_type": "execute_result"
    }
   ],
   "source": [
    "# tensors = []\n",
    "# directory = 'pth_data'\n",
    "# for filename in os.listdir(directory):\n",
    "#     tensor = torch.load(os.path.join(directory, filename))\n",
    "#     tensors.append(tensor)\n",
    "\n",
    "tensor = torch.load('HUC8_CA_PFAS_GTruth_Summa2.pth')\n",
    "tensor.shape"
   ]
  },
  {
   "cell_type": "code",
   "execution_count": null,
   "metadata": {},
   "outputs": [
    {
     "data": {
      "text/plain": [
       "torch.Size([965866, 1, 10, 10])"
      ]
     },
     "execution_count": 3,
     "metadata": {},
     "output_type": "execute_result"
    }
   ],
   "source": [
    "concat_tensor = torch.cat(tensors, dim=1)"
   ]
  },
  {
   "cell_type": "code",
   "execution_count": null,
   "metadata": {},
   "outputs": [],
   "source": [
    "# Define the UNet model\n",
    "class UNet(nn.Module):\n",
    "    def __init__(self, in_channels=1, out_channels=1):\n",
    "        super(UNet, self).__init__()\n",
    "\n",
    "        def conv_block(in_c, out_c):\n",
    "            block = nn.Sequential(\n",
    "                nn.Conv2d(in_c, out_c, kernel_size=3, padding=1),\n",
    "                nn.ReLU(inplace=True),\n",
    "                nn.Conv2d(out_c, out_c, kernel_size=3, padding=1),\n",
    "                nn.ReLU(inplace=True)\n",
    "            )\n",
    "            return block\n",
    "\n",
    "        def down_block(in_c, out_c):\n",
    "            block = nn.Sequential(\n",
    "                nn.MaxPool2d(2),\n",
    "                conv_block(in_c, out_c)\n",
    "            )\n",
    "            return block\n",
    "\n",
    "        def up_block(in_c, out_c):\n",
    "            block = nn.Sequential(\n",
    "                nn.ConvTranspose2d(in_c, out_c, kernel_size=2, stride=2),\n",
    "                conv_block(out_c, out_c)\n",
    "            )\n",
    "            return block\n",
    "\n",
    "        # Encoder\n",
    "        self.enc1 = conv_block(in_channels, 64)\n",
    "        self.enc2 = down_block(64, 128)\n",
    "        self.enc3 = down_block(128, 256)\n",
    "        self.enc4 = down_block(256, 512)\n",
    "\n",
    "        # Bottleneck\n",
    "        self.bottleneck = conv_block(512, 1024)\n",
    "\n",
    "        # Decoder\n",
    "        self.dec4 = up_block(1024, 512)\n",
    "        self.dec3 = up_block(512, 256)\n",
    "        self.dec2 = up_block(256, 128)\n",
    "        self.dec1 = up_block(128, 64)\n",
    "\n",
    "        # Final layer\n",
    "        self.final = nn.Conv2d(64, out_channels, kernel_size=1)\n",
    "\n",
    "    def forward(self, x):\n",
    "        # Encoder path\n",
    "        e1 = self.enc1(x)\n",
    "        e2 = self.enc2(e1)\n",
    "        e3 = self.enc3(e2)\n",
    "        e4 = self.enc4(e3)\n",
    "\n",
    "        # Bottleneck\n",
    "        b = self.bottleneck(e4)\n",
    "\n",
    "        # Decoder path\n",
    "        d4 = self.dec4(b)\n",
    "        d3 = self.dec3(d4 + e3)  # skip connection\n",
    "        d2 = self.dec2(d3 + e2)\n",
    "        d1 = self.dec1(d2 + e1)\n",
    "\n",
    "        # Final output layer\n",
    "        out = self.final(d1)\n",
    "        return out"
   ]
  },
  {
   "cell_type": "code",
   "execution_count": null,
   "metadata": {},
   "outputs": [],
   "source": []
  },
  {
   "cell_type": "code",
   "execution_count": null,
   "metadata": {},
   "outputs": [],
   "source": [
    "# Instantiate the model, define the loss function and the optimizer\n",
    "model = UNet(in_channels=1, out_channels=1)\n",
    "criterion = nn.MSELoss()  # Mean Squared Error for grayscale output\n",
    "optimizer = optim.Adam(model.parameters(), lr=0.001)\n",
    "\n",
    "# Dummy input (batch of grayscale images, e.g., 1 sample of 1x128x128 image)\n",
    "input_image = torch.randn((1, 1, 128, 128))  # 1 batch, 1 channel, 128x128 resolution\n",
    "output = model(input_image)\n",
    "\n",
    "print(\"Output shape:\", output.shape)  # Should be (1, 1, 128, 128)"
   ]
  }
 ],
 "metadata": {
  "kernelspec": {
   "display_name": "pfas",
   "language": "python",
   "name": "python3"
  },
  "language_info": {
   "codemirror_mode": {
    "name": "ipython",
    "version": 3
   },
   "file_extension": ".py",
   "mimetype": "text/x-python",
   "name": "python",
   "nbconvert_exporter": "python",
   "pygments_lexer": "ipython3",
   "version": "3.10.13"
  }
 },
 "nbformat": 4,
 "nbformat_minor": 2
}
